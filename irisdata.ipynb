{
 "cells": [
  {
   "cell_type": "code",
   "execution_count": null,
   "metadata": {},
   "outputs": [],
   "source": [
    "import numpy as np\n",
    "import pandas as pd\n",
    "from sklearn.datasets import load_iris\n",
    "import random\n",
    "\n",
    "# Load the iris dataset\n",
    "iris = load_iris()\n",
    "data = iris['data']\n",
    "\n",
    "# Number of clusters\n",
    "K = 4\n",
    "\n",
    "# Randomly initialize the centroids (cluster means) by selecting K random points from the dataset\n",
    "np.random.seed(42)\n",
    "initial_centroids = data[np.random.choice(data.shape[0], K, replace=False)]\n",
    "\n",
    "# Function to calculate Euclidean distance\n",
    "def euclidean_distance(a, b):\n",
    "    return np.sqrt(np.sum((a - b) ** 2))\n",
    "\n",
    "# Function to assign each point to the nearest cluster\n",
    "def assign_clusters(data, centroids):\n",
    "    clusters = []\n",
    "    for point in data:\n",
    "        distances = [euclidean_distance(point, centroid) for centroid in centroids]\n",
    "        clusters.append(np.argmin(distances))\n",
    "    return np.array(clusters)\n",
    "\n",
    "# Function to update centroids based on cluster assignment\n",
    "def update_centroids(data, clusters, K):\n",
    "    new_centroids = np.zeros((K, data.shape[1]))\n",
    "    for k in range(K):\n",
    "        cluster_points = data[clusters == k]\n",
    "        if len(cluster_points) > 0:\n",
    "            new_centroids[k] = np.mean(cluster_points, axis=0)\n",
    "    return new_centroids\n",
    "\n",
    "# Perform K-means for 10 iterations\n",
    "centroids = initial_centroids\n",
    "for i in range(10):\n",
    "    clusters = assign_clusters(data, centroids)\n",
    "    centroids = update_centroids(data, clusters, K)\n",
    "\n",
    "# Print the final cluster means\n",
    "print(\"Final cluster means (centroids) after 10 iterations:\")\n",
    "for idx, centroid in enumerate(centroids):\n",
    "    print(f\"Cluster {idx+1} mean: {centroid}\")"
   ]
  }
 ],
 "metadata": {
  "language_info": {
   "name": "python"
  }
 },
 "nbformat": 4,
 "nbformat_minor": 2
}
